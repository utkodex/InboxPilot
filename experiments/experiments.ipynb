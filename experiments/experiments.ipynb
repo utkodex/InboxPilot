{
 "cells": [
  {
   "cell_type": "code",
   "execution_count": 1,
   "id": "c5a4057f",
   "metadata": {},
   "outputs": [
    {
     "name": "stdout",
     "output_type": "stream",
     "text": [
      "Missing environment variables: ['SENDER_EMAIL', 'SENDER_PASS']\n"
     ]
    }
   ],
   "source": [
    "required_vars = ['SENDER_EMAIL', 'SENDER_PASS']\n",
    "        \n",
    "missing_vars = [var for var in required_vars]\n",
    "print(f\"Missing environment variables: {missing_vars}\")"
   ]
  },
  {
   "cell_type": "code",
   "execution_count": 1,
   "id": "6bac4c93",
   "metadata": {},
   "outputs": [],
   "source": [
    "import gspread\n",
    "import json\n",
    "\n",
    "# Load credentials and open Google Sheet\n",
    "gc = gspread.service_account(filename='credentials.json')  # Replace with your credentials file path\n",
    "spreadsheet_url = 'https://docs.google.com/spreadsheets/d/1h0t_E-r-ooxDycT0tZo6-B39uZa-9GTMDNiNSsQZ1Lk/edit?gid=0#gid=0'\n",
    "sh = gc.open_by_url(spreadsheet_url)"
   ]
  },
  {
   "cell_type": "code",
   "execution_count": 2,
   "id": "92ec6d44",
   "metadata": {},
   "outputs": [],
   "source": [
    "# Access specific worksheet\n",
    "source_subsheet_title = 'Sheet1'  # Replace with your source worksheet title\n",
    "worksheet = sh.worksheet(source_subsheet_title)"
   ]
  },
  {
   "cell_type": "code",
   "execution_count": 3,
   "id": "f81cbc9b",
   "metadata": {},
   "outputs": [],
   "source": [
    "data = worksheet.get_all_values()[1:]"
   ]
  },
  {
   "cell_type": "code",
   "execution_count": 4,
   "id": "03dadbe5",
   "metadata": {},
   "outputs": [
    {
     "data": {
      "text/plain": [
       "[['sinhautkarshgc@gmail.com',\n",
       "  'Utkarsh',\n",
       "  'This is sheet 2',\n",
       "  'This is from excel for again me'],\n",
       " ['aenakshi.intern@lawsikho.in',\n",
       "  'Aenakshi',\n",
       "  'This is sheet 2',\n",
       "  'This is from excel for agaom papa']]"
      ]
     },
     "execution_count": 4,
     "metadata": {},
     "output_type": "execute_result"
    }
   ],
   "source": [
    "data"
   ]
  },
  {
   "cell_type": "code",
   "execution_count": 7,
   "id": "02fed66c",
   "metadata": {},
   "outputs": [
    {
     "name": "stdout",
     "output_type": "stream",
     "text": [
      "To: sinhautkarshgc@gmail.com, Name: Utkarsh, Subject: This is sheet 2, Body: This is from excel for again me\n",
      "To: aenakshi.intern@lawsikho.in, Name: Aenakshi, Subject: This is sheet 2, Body: This is from excel for agaom papa\n"
     ]
    },
    {
     "data": {
      "text/plain": [
       "[{'Recipient Email': 'sinhautkarshgc@gmail.com',\n",
       "  'Recipient Name': 'Utkarsh',\n",
       "  'Subject': 'This is sheet 2',\n",
       "  'Body': 'This is from excel for again me'},\n",
       " {'Recipient Email': 'aenakshi.intern@lawsikho.in',\n",
       "  'Recipient Name': 'Aenakshi',\n",
       "  'Subject': 'This is sheet 2',\n",
       "  'Body': 'This is from excel for agaom papa'}]"
      ]
     },
     "execution_count": 7,
     "metadata": {},
     "output_type": "execute_result"
    }
   ],
   "source": [
    "friends_data = []\n",
    "\n",
    "for row in data:\n",
    "    recipient_email=row[0]\n",
    "    recipient_name=row[1]\n",
    "    subject=row[2]\n",
    "    body=row[3]\n",
    "\n",
    "    print(f\"To: {recipient_email}, Name: {recipient_name}, Subject: {subject}, Body: {body}\")\n",
    "    friends_data.append({\"Recipient Email\": recipient_email, \"Recipient Name\": recipient_name, \"Subject\": subject, \"Body\": body})\n",
    "\n",
    "friends_data"
   ]
  },
  {
   "cell_type": "code",
   "execution_count": 8,
   "id": "29655be0",
   "metadata": {},
   "outputs": [
    {
     "name": "stdout",
     "output_type": "stream",
     "text": [
      "sinhautkarshgc@gmail.com\n",
      "aenakshi.intern@lawsikho.in\n"
     ]
    }
   ],
   "source": [
    "for friends_dat in friends_data:\n",
    "    print(friends_dat[\"Recipient Email\"])"
   ]
  },
  {
   "cell_type": "code",
   "execution_count": null,
   "id": "34a3fdd1",
   "metadata": {},
   "outputs": [],
   "source": []
  }
 ],
 "metadata": {
  "kernelspec": {
   "display_name": "Python 3",
   "language": "python",
   "name": "python3"
  },
  "language_info": {
   "codemirror_mode": {
    "name": "ipython",
    "version": 3
   },
   "file_extension": ".py",
   "mimetype": "text/x-python",
   "name": "python",
   "nbconvert_exporter": "python",
   "pygments_lexer": "ipython3",
   "version": "3.13.2"
  }
 },
 "nbformat": 4,
 "nbformat_minor": 5
}
